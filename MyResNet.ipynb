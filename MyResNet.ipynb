{
 "cells": [
  {
   "cell_type": "code",
   "execution_count": 33,
   "metadata": {
    "collapsed": false
   },
   "outputs": [],
   "source": [
    "from keras.models import Sequential, Model, load_model\n",
    "from keras.utils.np_utils import to_categorical\n",
    "from keras.layers import Flatten, Dense, Dropout, Reshape, Permute, Activation, BatchNormalization, \\\n",
    "    Input\n",
    "from keras.engine.topology import merge\n",
    "from keras.layers.convolutional import Convolution2D, MaxPooling2D, ZeroPadding2D\n",
    "from keras.optimizers import SGD\n",
    "from keras.callbacks import ModelCheckpoint, Callback\n",
    "import numpy as np\n",
    "from keras.wrappers.scikit_learn import KerasRegressor\n",
    "from keras.applications.resnet50 import ResNet50\n",
    "import pickle as pkl\n",
    "import matplotlib.pyplot as plt\n",
    "# from keras.utils.visualize_util import plot\n",
    "import os\n",
    "%matplotlib inline"
   ]
  },
  {
   "cell_type": "code",
   "execution_count": 2,
   "metadata": {
    "collapsed": false
   },
   "outputs": [],
   "source": [
    "# load data\n",
    "Xtrain = np.load('./data/dataset256/Xtrain.npy')\n",
    "Xtest = np.load('./data/dataset256/Xtest.npy')\n",
    "Ytrain_reg = np.load('./data/dataset256/Ytrain_reg.npy')\n",
    "Ytest_reg = np.load('./data/dataset256/Ytest_reg.npy')\n",
    "Ytrain_cls = np.load('./data/dataset256/Ytrain_cls.npy')\n",
    "Ytest_cls = np.load('./data/dataset256/Ytest_cls.npy')"
   ]
  },
  {
   "cell_type": "code",
   "execution_count": 31,
   "metadata": {
    "collapsed": false,
    "scrolled": true
   },
   "outputs": [
    {
     "name": "stdout",
     "output_type": "stream",
     "text": [
      "Xtrain (15405, 256, 256, 3)\n",
      "Xtest (3852, 256, 256, 3)\n",
      "Ytrain_reg (15405,)\n",
      "Ytest_reg (3852,)\n",
      "Ytrain_cls (15405, 7)\n",
      "Ytest_cls (3852, 7)\n"
     ]
    }
   ],
   "source": [
    "print ('Xtrain', Xtrain.shape)\n",
    "print ('Xtest', Xtest.shape)\n",
    "print ('Ytrain_reg', Ytrain_reg.shape)\n",
    "print ('Ytest_reg', Ytest_reg.shape)\n",
    "print ('Ytrain_cls', Ytrain_cls.shape)\n",
    "print ('Ytest_cls', Ytest_cls.shape)"
   ]
  },
  {
   "cell_type": "code",
   "execution_count": 7,
   "metadata": {
    "collapsed": false
   },
   "outputs": [],
   "source": [
    "# netowrk settings\n",
    "\n",
    "batch_size = 64\n",
    "folder = './myresnet-training-checkpoint-new/'\n",
    "if not os.path.exists(folder):\n",
    "    os.makedirs(folder)\n",
    "\n",
    "n_cls = int(np.max(Ytrain_cls))\n"
   ]
  },
  {
   "cell_type": "code",
   "execution_count": 8,
   "metadata": {
    "collapsed": false
   },
   "outputs": [],
   "source": [
    "Ytrain_cls = to_categorical(Ytrain_cls-1)\n",
    "Ytest_cls = to_categorical(Ytest_cls-1)"
   ]
  },
  {
   "cell_type": "code",
   "execution_count": 34,
   "metadata": {
    "collapsed": false
   },
   "outputs": [],
   "source": [
    "def addResidualBlock(inp, size=(3,3), subsample=(4,4), filters_conv_rate=2, name=None):\n",
    "    conv_filters = int(inp.get_shape()[-1])*filters_conv_rate\n",
    "    inp = BatchNormalization()(inp)\n",
    "    first = Convolution2D(conv_filters, size[0], size[1], border_mode='same', subsample=subsample, activation='relu')(inp)\n",
    "    \n",
    "    second = BatchNormalization()(first)\n",
    "    second = Convolution2D(conv_filters, 3,3, border_mode='same', activation='relu')(second)\n",
    "    \n",
    "    second = BatchNormalization()(second)\n",
    "    second = Convolution2D(conv_filters, 3,3, border_mode='same', activation='relu')(second)\n",
    "    \n",
    "    return merge([first, second], mode='sum', name=name)"
   ]
  },
  {
   "cell_type": "code",
   "execution_count": 35,
   "metadata": {
    "collapsed": false
   },
   "outputs": [],
   "source": [
    "def MyResNetRegr():\n",
    "    inp = Input(shape=(256, 256,3))\n",
    "    out = Convolution2D(16, 3,3, border_mode='same', activation='relu', subsample=(4,4))(inp)\n",
    "    for i in range(3):\n",
    "        out = addResidualBlock(out)\n",
    "        out = BatchNormalization()(out)\n",
    "        out = Activation('relu')(out)\n",
    "    \n",
    "    out = BatchNormalization()(out)\n",
    "    out = Flatten()(out)\n",
    "    out = Dense(128, activation='relu', name='fcc')(out)\n",
    "    out = Dense(1, name='out')(out)\n",
    "    \n",
    "    model = Model(input=inp, output=out)\n",
    "    model.compile(loss='mean_squared_error', optimizer='adam')\n",
    "    return model\n",
    "\n",
    "def MyResNetCls():\n",
    "    inp = Input(shape=(256, 256,3))\n",
    "    out = Convolution2D(16, 3,3, border_mode='same', activation='relu', subsample=(4,4))(inp)\n",
    "    for i in range(3):\n",
    "        out = addResidualBlock(out)\n",
    "        out = BatchNormalization()(out)\n",
    "        out = Activation('relu')(out)\n",
    "    \n",
    "    out = BatchNormalization()(out)\n",
    "    out = Flatten()(out)\n",
    "    out = Dense(128, activation='relu', name='fcc')(out)\n",
    "    out = Dense(n_cls, activation='softmax', name='out')(out)\n",
    "    \n",
    "    model = Model(input=inp, output=out)\n",
    "    \n",
    "    model.compile(loss='categorical_crossentropy', optimizer='adam')\n",
    "    return model\n",
    "\n",
    "def weighted_mse(y_true, y_pred, weight = 20.):\n",
    "        err = mean_squared_error(y_true, y_pred)\n",
    "        return err*weight\n",
    "    \n",
    "def MyResNet2Obj():\n",
    "    inp = Input(shape=(256, 256,3))\n",
    "    out = Convolution2D(16, 3,3, border_mode='same', activation='relu', subsample=(4,4))(inp)\n",
    "    for i in range(3):\n",
    "        out = addResidualBlock(out)\n",
    "        out = BatchNormalization()(out)\n",
    "        out = Activation('relu')(out)\n",
    "    \n",
    "    out = BatchNormalization()(out)\n",
    "    out = Flatten()(out)\n",
    "    out = Dense(128, activation='relu', name='fcc')(out)\n",
    "    out_reg = Dense(1, name='out_reg')(out)\n",
    "    out_cls = Dense(n_cls, activation='softmax', name='out_cls')(out)\n",
    "    \n",
    "    model = Model(input=inp, output=[out_reg, out_cls])\n",
    "    mr = Model(input=inp, output=out_reg)\n",
    "    mc = Model(input=inp, output=out_cls)\n",
    "\n",
    "    model.compile(loss=['mean_squared_error', 'categorical_crossentropy'], optimizer='adam', metrics=['accuracy'])\n",
    "    mr.compile(loss='mean_squared_error', optimizer='adam')\n",
    "    mc.compile(loss='categorical_crossentropy', optimizer='adam', metrics=['accuracy'])\n",
    "    \n",
    "    return model, mr, mc\n"
   ]
  },
  {
   "cell_type": "code",
   "execution_count": null,
   "metadata": {
    "collapsed": true
   },
   "outputs": [],
   "source": [
    "load_path = False"
   ]
  },
  {
   "cell_type": "code",
   "execution_count": 12,
   "metadata": {
    "collapsed": false
   },
   "outputs": [],
   "source": [
    "load_path = './aaa_results/reg/checkpoint-99-0.00.hdf5'\n",
    "if load_path:\n",
    "    model_reg = load_model(load_path)\n",
    "else:\n",
    "    model_reg = MyResNetRegr()\n",
    "# plot(model_reg, 'myresnet-training-checkpoint/reg_checkpoint/model.png')\n"
   ]
  },
  {
   "cell_type": "code",
   "execution_count": 15,
   "metadata": {
    "collapsed": false
   },
   "outputs": [],
   "source": [
    "load_path = './myresnet-training-checkpoint/cls_checkpoint/checkpoint-99-0.39.hdf5'\n",
    "if load_path:\n",
    "    model_cls = load_model(load_path)\n",
    "else:\n",
    "    model_cls = MyResNetCls()\n",
    "# model_cls.summary()"
   ]
  },
  {
   "cell_type": "code",
   "execution_count": 37,
   "metadata": {
    "collapsed": false,
    "scrolled": true
   },
   "outputs": [
    {
     "name": "stdout",
     "output_type": "stream",
     "text": [
      "____________________________________________________________________________________________________\n",
      "Layer (type)                     Output Shape          Param #     Connected to                     \n",
      "====================================================================================================\n",
      "input_2 (InputLayer)             (None, 256, 256, 3)   0                                            \n",
      "____________________________________________________________________________________________________\n",
      "convolution2d_11 (Convolution2D) (None, 64, 64, 16)    448         input_2[0][0]                    \n",
      "____________________________________________________________________________________________________\n",
      "batchnormalization_14 (BatchNorm (None, 64, 64, 16)    64          convolution2d_11[0][0]           \n",
      "____________________________________________________________________________________________________\n",
      "convolution2d_12 (Convolution2D) (None, 16, 16, 32)    4640        batchnormalization_14[0][0]      \n",
      "____________________________________________________________________________________________________\n",
      "batchnormalization_15 (BatchNorm (None, 16, 16, 32)    128         convolution2d_12[0][0]           \n",
      "____________________________________________________________________________________________________\n",
      "convolution2d_13 (Convolution2D) (None, 16, 16, 32)    9248        batchnormalization_15[0][0]      \n",
      "____________________________________________________________________________________________________\n",
      "batchnormalization_16 (BatchNorm (None, 16, 16, 32)    128         convolution2d_13[0][0]           \n",
      "____________________________________________________________________________________________________\n",
      "convolution2d_14 (Convolution2D) (None, 16, 16, 32)    9248        batchnormalization_16[0][0]      \n",
      "____________________________________________________________________________________________________\n",
      "merge_4 (Merge)                  (None, 16, 16, 32)    0           convolution2d_12[0][0]           \n",
      "                                                                   convolution2d_14[0][0]           \n",
      "____________________________________________________________________________________________________\n",
      "batchnormalization_17 (BatchNorm (None, 16, 16, 32)    128         merge_4[0][0]                    \n",
      "____________________________________________________________________________________________________\n",
      "activation_4 (Activation)        (None, 16, 16, 32)    0           batchnormalization_17[0][0]      \n",
      "____________________________________________________________________________________________________\n",
      "batchnormalization_18 (BatchNorm (None, 16, 16, 32)    128         activation_4[0][0]               \n",
      "____________________________________________________________________________________________________\n",
      "convolution2d_15 (Convolution2D) (None, 4, 4, 64)      18496       batchnormalization_18[0][0]      \n",
      "____________________________________________________________________________________________________\n",
      "batchnormalization_19 (BatchNorm (None, 4, 4, 64)      256         convolution2d_15[0][0]           \n",
      "____________________________________________________________________________________________________\n",
      "convolution2d_16 (Convolution2D) (None, 4, 4, 64)      36928       batchnormalization_19[0][0]      \n",
      "____________________________________________________________________________________________________\n",
      "batchnormalization_20 (BatchNorm (None, 4, 4, 64)      256         convolution2d_16[0][0]           \n",
      "____________________________________________________________________________________________________\n",
      "convolution2d_17 (Convolution2D) (None, 4, 4, 64)      36928       batchnormalization_20[0][0]      \n",
      "____________________________________________________________________________________________________\n",
      "merge_5 (Merge)                  (None, 4, 4, 64)      0           convolution2d_15[0][0]           \n",
      "                                                                   convolution2d_17[0][0]           \n",
      "____________________________________________________________________________________________________\n",
      "batchnormalization_21 (BatchNorm (None, 4, 4, 64)      256         merge_5[0][0]                    \n",
      "____________________________________________________________________________________________________\n",
      "activation_5 (Activation)        (None, 4, 4, 64)      0           batchnormalization_21[0][0]      \n",
      "____________________________________________________________________________________________________\n",
      "batchnormalization_22 (BatchNorm (None, 4, 4, 64)      256         activation_5[0][0]               \n",
      "____________________________________________________________________________________________________\n",
      "convolution2d_18 (Convolution2D) (None, 1, 1, 128)     73856       batchnormalization_22[0][0]      \n",
      "____________________________________________________________________________________________________\n",
      "batchnormalization_23 (BatchNorm (None, 1, 1, 128)     512         convolution2d_18[0][0]           \n",
      "____________________________________________________________________________________________________\n",
      "convolution2d_19 (Convolution2D) (None, 1, 1, 128)     147584      batchnormalization_23[0][0]      \n",
      "____________________________________________________________________________________________________\n",
      "batchnormalization_24 (BatchNorm (None, 1, 1, 128)     512         convolution2d_19[0][0]           \n",
      "____________________________________________________________________________________________________\n",
      "convolution2d_20 (Convolution2D) (None, 1, 1, 128)     147584      batchnormalization_24[0][0]      \n",
      "____________________________________________________________________________________________________\n",
      "merge_6 (Merge)                  (None, 1, 1, 128)     0           convolution2d_18[0][0]           \n",
      "                                                                   convolution2d_20[0][0]           \n",
      "____________________________________________________________________________________________________\n",
      "batchnormalization_25 (BatchNorm (None, 1, 1, 128)     512         merge_6[0][0]                    \n",
      "____________________________________________________________________________________________________\n",
      "activation_6 (Activation)        (None, 1, 1, 128)     0           batchnormalization_25[0][0]      \n",
      "____________________________________________________________________________________________________\n",
      "batchnormalization_26 (BatchNorm (None, 1, 1, 128)     512         activation_6[0][0]               \n",
      "____________________________________________________________________________________________________\n",
      "flatten_2 (Flatten)              (None, 128)           0           batchnormalization_26[0][0]      \n",
      "____________________________________________________________________________________________________\n",
      "fcc (Dense)                      (None, 128)           16512       flatten_2[0][0]                  \n",
      "____________________________________________________________________________________________________\n",
      "out_reg (Dense)                  (None, 1)             129         fcc[0][0]                        \n",
      "____________________________________________________________________________________________________\n",
      "out_cls (Dense)                  (None, 7)             903         fcc[0][0]                        \n",
      "====================================================================================================\n",
      "Total params: 506,152\n",
      "Trainable params: 504,328\n",
      "Non-trainable params: 1,824\n",
      "____________________________________________________________________________________________________\n"
     ]
    }
   ],
   "source": [
    "load_path = False\n",
    "# load_path = './aaa_results/2losse_normal/checkpoint-199-0.60.hdf5'\n",
    "if load_path:\n",
    "    model = load_model(load_path)\n",
    "else:\n",
    "    model, mr, mc = MyResNet2Obj()\n",
    "model.summary()\n",
    "# plot(model, 'myresnet-training-checkpoint/2obj_checkpoint/model.png', show_shapes=False, show_layer_names=False)"
   ]
  },
  {
   "cell_type": "code",
   "execution_count": null,
   "metadata": {
    "collapsed": false
   },
   "outputs": [],
   "source": [
    "if not os.path.exists(folder + '2obj_checkpoint/'):\n",
    "    os.makedirs(folder + '2obj_checkpoint/')\n",
    "checkpoint = ModelCheckpoint(filepath=folder + '2obj_checkpoint/checkpoint-{epoch:02d}-{val_loss:.2f}.hdf5')\n",
    "history = model.fit(x=Xtrain[:100], y=[Ytrain_reg[:100], Ytrain_cls[:100]], \n",
    "          nb_epoch=2, batch_size=batch_size,validation_split=0.1, verbose=1, callbacks=[checkpoint]) \n",
    "mr.save(folder + '2obj_checkpoint/model_reg.hdf5')\n",
    "mc.save(folder + '2obj_checkpoint/model_cls.hdf5')\n",
    "with open(folder + '2obj_checkpoint/history.pkl', 'wb') as f:\n",
    "    pkl.dump(history.history, f)"
   ]
  },
  {
   "cell_type": "code",
   "execution_count": null,
   "metadata": {
    "collapsed": false
   },
   "outputs": [],
   "source": [
    "if not os.path.exists(folder + 'reg_checkpoint/'):\n",
    "    os.makedirs(folder + 'reg_checkpoint/')\n",
    "checkpoint = ModelCheckpoint(filepath=folder + '/reg_checkpoint/checkpoint-{epoch:02d}-{val_loss:.2f}.hdf5')\n",
    "history = model_reg.fit(x=Xtrain[:100], y=Ytrain_reg[:100], \n",
    "          nb_epoch=2, batch_size=batch_size,validation_split=0.1, verbose=1, callbacks=[checkpoint]) \n",
    "with open(folder + 'reg_checkpoint/history.pkl', 'wb') as f:\n",
    "    pkl.dump(history.history, f)"
   ]
  },
  {
   "cell_type": "code",
   "execution_count": null,
   "metadata": {
    "collapsed": false,
    "scrolled": true
   },
   "outputs": [],
   "source": [
    "if not os.path.exists(folder + 'cls_checkpoint/'):\n",
    "    os.makedirs(folder + 'cls_checkpoint/')\n",
    "checkpoint = ModelCheckpoint(filepath=folder + '/cls_checkpoint/checkpoint-{epoch:02d}-{val_loss:.2f}.hdf5')\n",
    "history = model_cls.fit(x=Xtrain[:100], y=Ytrain_cls[:100], \n",
    "          nb_epoch=2, batch_size=batch_size,validation_split=0.1, verbose=1, callbacks=[checkpoint]) \n",
    "with open(folder + 'cls_checkpoint/history.pkl', 'wb') as f:\n",
    "    pkl.dump(history.history, f)"
   ]
  },
  {
   "cell_type": "code",
   "execution_count": 9,
   "metadata": {
    "collapsed": false,
    "scrolled": false
   },
   "outputs": [
    {
     "name": "stdout",
     "output_type": "stream",
     "text": [
      "3852/3852 [==============================] - 14s    \n"
     ]
    }
   ],
   "source": [
    "evl_both = model.evaluate(x=Xtest, y=[Ytest_reg, Ytest_cls],batch_size=batch_size)"
   ]
  },
  {
   "cell_type": "code",
   "execution_count": 13,
   "metadata": {
    "collapsed": false
   },
   "outputs": [
    {
     "name": "stdout",
     "output_type": "stream",
     "text": [
      "3852/3852 [==============================] - 15s    \n"
     ]
    }
   ],
   "source": [
    "evl_reg = model_reg.evaluate(x=Xtest, y=Ytest_reg,batch_size=batch_size)"
   ]
  },
  {
   "cell_type": "code",
   "execution_count": 16,
   "metadata": {
    "collapsed": false
   },
   "outputs": [
    {
     "name": "stdout",
     "output_type": "stream",
     "text": [
      "3852/3852 [==============================] - 14s    \n"
     ]
    }
   ],
   "source": [
    "evl_cls = model_cls.evaluate(x=Xtest, y=Ytest_cls,batch_size=batch_size)"
   ]
  },
  {
   "cell_type": "code",
   "execution_count": 10,
   "metadata": {
    "collapsed": false
   },
   "outputs": [
    {
     "data": {
      "text/plain": [
       "['loss', 'out_reg_loss', 'out_cls_loss', 'out_reg_acc', 'out_cls_acc']"
      ]
     },
     "execution_count": 10,
     "metadata": {},
     "output_type": "execute_result"
    }
   ],
   "source": [
    "model.metrics_names"
   ]
  },
  {
   "cell_type": "code",
   "execution_count": 11,
   "metadata": {
    "collapsed": false,
    "scrolled": true
   },
   "outputs": [
    {
     "data": {
      "text/plain": [
       "[0.5623001135026926,\n",
       " 0.0070894300903320343,\n",
       " 0.55521068258572714,\n",
       " 0.0,\n",
       " 0.90238836973998404]"
      ]
     },
     "execution_count": 11,
     "metadata": {},
     "output_type": "execute_result"
    }
   ],
   "source": [
    "evl_both"
   ]
  },
  {
   "cell_type": "code",
   "execution_count": 14,
   "metadata": {
    "collapsed": false
   },
   "outputs": [
    {
     "data": {
      "text/plain": [
       "0.0023230025470718598"
      ]
     },
     "execution_count": 14,
     "metadata": {},
     "output_type": "execute_result"
    }
   ],
   "source": [
    "evl_reg"
   ]
  },
  {
   "cell_type": "code",
   "execution_count": 17,
   "metadata": {
    "collapsed": false
   },
   "outputs": [
    {
     "data": {
      "text/plain": [
       "[0.40204537541509788, 0.91874350980311048]"
      ]
     },
     "execution_count": 17,
     "metadata": {},
     "output_type": "execute_result"
    }
   ],
   "source": [
    "evl_cls"
   ]
  },
  {
   "cell_type": "code",
   "execution_count": 25,
   "metadata": {
    "collapsed": false
   },
   "outputs": [],
   "source": [
    "with open('./aaa_results/2los-weighted/history.pkl', 'rb') as f:\n",
    "    history = pkl.load(f) "
   ]
  },
  {
   "cell_type": "code",
   "execution_count": 4,
   "metadata": {
    "collapsed": false
   },
   "outputs": [
    {
     "name": "stdout",
     "output_type": "stream",
     "text": [
      "{'loss': [1.1123580733935039, 1.2439877324634128], 'val_loss': [45.657299041748047, 4.5590920448303223]}\n"
     ]
    }
   ],
   "source": [
    "print(hitsory)"
   ]
  },
  {
   "cell_type": "code",
   "execution_count": 26,
   "metadata": {
    "collapsed": false
   },
   "outputs": [
    {
     "data": {
      "image/png": "[encoded data removed]",
      "text/plain": [
       "<matplotlib.figure.Figure at 0x1f965d6a0>"
      ]
     },
     "metadata": {},
     "output_type": "display_data"
    }
   ],
   "source": [
    "plt.plot(history['loss'])\n",
    "plt.plot(history['val_loss'])\n",
    "# plt.plot(history['val_loss'])\n",
    "# plt.plot(history['val_loss'])\n",
    "\n",
    "plt.ylabel('loss')\n",
    "plt.xlabel('epoch')\n",
    "plt.legend(['train', 'val'], loc='upper left')\n",
    "plt.savefig('./aaa_results/reg/train.png')"
   ]
  },
  {
   "cell_type": "code",
   "execution_count": 27,
   "metadata": {
    "collapsed": false
   },
   "outputs": [
    {
     "data": {
      "text/plain": [
       "['loss', 'out_reg_loss', 'out_cls_loss', 'out_reg_acc', 'out_cls_acc']"
      ]
     },
     "execution_count": 27,
     "metadata": {},
     "output_type": "execute_result"
    }
   ],
   "source": [
    "model.metrics_names"
   ]
  },
  {
   "cell_type": "code",
   "execution_count": 28,
   "metadata": {
    "collapsed": false
   },
   "outputs": [
    {
     "data": {
      "image/png": "[encoded data removed]",
      "text/plain": [
       "<matplotlib.figure.Figure at 0x2022ef710>"
      ]
     },
     "metadata": {},
     "output_type": "display_data"
    }
   ],
   "source": [
    "plt.plot(history['out_reg_loss'])\n",
    "plt.plot(history['out_cls_loss'])\n",
    "# plt.plot(history['val_loss'])\n",
    "# plt.plot(history['val_loss'])\n",
    "\n",
    "plt.ylabel('reg loss')\n",
    "plt.xlabel('cls loss')\n",
    "plt.legend(['train', 'val'], loc='upper left')\n",
    "plt.savefig('./aaa_results/reg/train.png')"
   ]
  },
  {
   "cell_type": "code",
   "execution_count": null,
   "metadata": {
    "collapsed": true
   },
   "outputs": [],
   "source": []
  }
 ],
 "metadata": {
  "anaconda-cloud": {},
  "kernelspec": {
   "display_name": "Python 3",
   "language": "python",
   "name": "python3"
  },
  "language_info": {
   "codemirror_mode": {
    "name": "ipython",
    "version": 3
   },
   "file_extension": ".py",
   "mimetype": "text/x-python",
   "name": "python",
   "nbconvert_exporter": "python",
   "pygments_lexer": "ipython3",
   "version": "3.5.0"
  }
 },
 "nbformat": 4,
 "nbformat_minor": 1
}
