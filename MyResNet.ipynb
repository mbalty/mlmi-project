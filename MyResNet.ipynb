{
 "cells": [
  {
   "cell_type": "code",
   "execution_count": 93,
   "metadata": {
    "collapsed": false
   },
   "outputs": [],
   "source": [
    "from keras.models import Sequential, Model\n",
    "from keras.layers import Flatten, Dense, Dropout, Reshape, Permute, Activation, BatchNormalization, \\\n",
    "    Input\n",
    "from keras.engine.topology import merge\n",
    "from keras.layers.convolutional import Convolution2D, MaxPooling2D, ZeroPadding2D\n",
    "from keras.optimizers import SGD\n",
    "from keras.callbacks import ModelCheckpoint, Callback\n",
    "import numpy as np\n",
    "from keras.wrappers.scikit_learn import KerasRegressor\n",
    "from keras.applications.resnet50 import ResNet50\n",
    "from sklearn.model_selection import cross_val_score\n",
    "from sklearn.model_selection import KFold\n",
    "from sklearn.preprocessing import StandardScaler\n",
    "from sklearn.pipeline import Pipeline\n",
    "from image_util import crop_center\n",
    "import matplotlib.pyplot as plt\n",
    "%matplotlib inline"
   ]
  },
  {
   "cell_type": "code",
   "execution_count": 125,
   "metadata": {
    "collapsed": true
   },
   "outputs": [],
   "source": [
    "# validation keras fix \n",
    "# ref: http://stackoverflow.com/questions/41796618/python-keras-cross-val-score-error/41841066#41841066\n",
    "from keras.wrappers.scikit_learn import BaseWrapper\n",
    "import copy\n",
    "\n",
    "def custom_get_params(self, **params):\n",
    "    res = copy.deepcopy(self.sk_params)\n",
    "    res.update({'build_fn': self.build_fn})\n",
    "    return res\n",
    "\n",
    "BaseWrapper.get_params = custom_get_params\n"
   ]
  },
  {
   "cell_type": "code",
   "execution_count": 126,
   "metadata": {
    "collapsed": false
   },
   "outputs": [],
   "source": [
    "# load data\n",
    "Xtrain = np.load('./data/dataset256/Xtrain.npy')\n",
    "Xtest = np.load('./data/dataset256/Xtest.npy')\n",
    "Ytrain = np.load('./data/dataset256/Ytrain.npy')\n",
    "Ytest = np.load('./data/dataset256/Ytest.npy')"
   ]
  },
  {
   "cell_type": "code",
   "execution_count": 127,
   "metadata": {
    "collapsed": false
   },
   "outputs": [],
   "source": [
    "# netowrk settings\n",
    "batch_size = 128\n",
    "nb_epoch = 2"
   ]
  },
  {
   "cell_type": "code",
   "execution_count": 128,
   "metadata": {
    "collapsed": false
   },
   "outputs": [],
   "source": [
    "def addResidualBlock(inp, size=(3,3), subsample=(4,4), filters_conv_rate=2, name=None):\n",
    "    conv_filters = int(inp.get_shape()[-1])*filters_conv_rate\n",
    "    inp = BatchNormalization()(inp)\n",
    "    first = Convolution2D(conv_filters, size[0], size[1], border_mode='same', subsample=subsample, activation='relu')(inp)\n",
    "    \n",
    "    second = BatchNormalization()(first)\n",
    "    second = Convolution2D(conv_filters, 3,3, border_mode='same', activation='relu')(second)\n",
    "    \n",
    "    second = BatchNormalization()(second)\n",
    "    second = Convolution2D(conv_filters, 3,3, border_mode='same', activation='relu')(second)\n",
    "    \n",
    "    return merge([first, second], mode='sum', name=name)"
   ]
  },
  {
   "cell_type": "code",
   "execution_count": 129,
   "metadata": {
    "collapsed": true
   },
   "outputs": [],
   "source": [
    "def MyResNet():\n",
    "    inp = Input(shape=(256, 256,3))\n",
    "    out = Convolution2D(16, 3,3, border_mode='same', activation='relu', subsample=(4,4))(inp)\n",
    "    for i in range(3):\n",
    "        out = addResidualBlock(out)\n",
    "        out = BatchNormalization()(out)\n",
    "        out = Activation('relu')(out)\n",
    "    \n",
    "    out = BatchNormalization()(out)\n",
    "    out = Flatten()(out)\n",
    "    out = Dense(128, activation='relu', name='fcc')(out)\n",
    "    out = Dense(1, name='out')(out)\n",
    "    \n",
    "    model = Model(input=inp, output=out)\n",
    "\n",
    "    model.compile(loss='mean_squared_error',\n",
    "                  optimizer='adam')\n",
    "    return model\n"
   ]
  },
  {
   "cell_type": "code",
   "execution_count": 130,
   "metadata": {
    "collapsed": false,
    "scrolled": false
   },
   "outputs": [
    {
     "name": "stdout",
     "output_type": "stream",
     "text": [
      "____________________________________________________________________________________________________\n",
      "Layer (type)                     Output Shape          Param #     Connected to                     \n",
      "====================================================================================================\n",
      "input_21 (InputLayer)            (None, 256, 256, 3)   0                                            \n",
      "____________________________________________________________________________________________________\n",
      "convolution2d_146 (Convolution2D (None, 64, 64, 16)    448         input_21[0][0]                   \n",
      "____________________________________________________________________________________________________\n",
      "batchnormalization_164 (BatchNor (None, 64, 64, 16)    64          convolution2d_146[0][0]          \n",
      "____________________________________________________________________________________________________\n",
      "convolution2d_147 (Convolution2D (None, 16, 16, 32)    4640        batchnormalization_164[0][0]     \n",
      "____________________________________________________________________________________________________\n",
      "batchnormalization_165 (BatchNor (None, 16, 16, 32)    128         convolution2d_147[0][0]          \n",
      "____________________________________________________________________________________________________\n",
      "convolution2d_148 (Convolution2D (None, 16, 16, 32)    9248        batchnormalization_165[0][0]     \n",
      "____________________________________________________________________________________________________\n",
      "batchnormalization_166 (BatchNor (None, 16, 16, 32)    128         convolution2d_148[0][0]          \n",
      "____________________________________________________________________________________________________\n",
      "convolution2d_149 (Convolution2D (None, 16, 16, 32)    9248        batchnormalization_166[0][0]     \n",
      "____________________________________________________________________________________________________\n",
      "merge_19 (Merge)                 (None, 16, 16, 32)    0           convolution2d_147[0][0]          \n",
      "                                                                   convolution2d_149[0][0]          \n",
      "____________________________________________________________________________________________________\n",
      "batchnormalization_167 (BatchNor (None, 16, 16, 32)    128         merge_19[0][0]                   \n",
      "____________________________________________________________________________________________________\n",
      "activation_67 (Activation)       (None, 16, 16, 32)    0           batchnormalization_167[0][0]     \n",
      "____________________________________________________________________________________________________\n",
      "batchnormalization_168 (BatchNor (None, 16, 16, 32)    128         activation_67[0][0]              \n",
      "____________________________________________________________________________________________________\n",
      "convolution2d_150 (Convolution2D (None, 4, 4, 64)      18496       batchnormalization_168[0][0]     \n",
      "____________________________________________________________________________________________________\n",
      "batchnormalization_169 (BatchNor (None, 4, 4, 64)      256         convolution2d_150[0][0]          \n",
      "____________________________________________________________________________________________________\n",
      "convolution2d_151 (Convolution2D (None, 4, 4, 64)      36928       batchnormalization_169[0][0]     \n",
      "____________________________________________________________________________________________________\n",
      "batchnormalization_170 (BatchNor (None, 4, 4, 64)      256         convolution2d_151[0][0]          \n",
      "____________________________________________________________________________________________________\n",
      "convolution2d_152 (Convolution2D (None, 4, 4, 64)      36928       batchnormalization_170[0][0]     \n",
      "____________________________________________________________________________________________________\n",
      "merge_20 (Merge)                 (None, 4, 4, 64)      0           convolution2d_150[0][0]          \n",
      "                                                                   convolution2d_152[0][0]          \n",
      "____________________________________________________________________________________________________\n",
      "batchnormalization_171 (BatchNor (None, 4, 4, 64)      256         merge_20[0][0]                   \n",
      "____________________________________________________________________________________________________\n",
      "activation_68 (Activation)       (None, 4, 4, 64)      0           batchnormalization_171[0][0]     \n",
      "____________________________________________________________________________________________________\n",
      "batchnormalization_172 (BatchNor (None, 4, 4, 64)      256         activation_68[0][0]              \n",
      "____________________________________________________________________________________________________\n",
      "convolution2d_153 (Convolution2D (None, 1, 1, 128)     73856       batchnormalization_172[0][0]     \n",
      "____________________________________________________________________________________________________\n",
      "batchnormalization_173 (BatchNor (None, 1, 1, 128)     512         convolution2d_153[0][0]          \n",
      "____________________________________________________________________________________________________\n",
      "convolution2d_154 (Convolution2D (None, 1, 1, 128)     147584      batchnormalization_173[0][0]     \n",
      "____________________________________________________________________________________________________\n",
      "batchnormalization_174 (BatchNor (None, 1, 1, 128)     512         convolution2d_154[0][0]          \n",
      "____________________________________________________________________________________________________\n",
      "convolution2d_155 (Convolution2D (None, 1, 1, 128)     147584      batchnormalization_174[0][0]     \n",
      "____________________________________________________________________________________________________\n",
      "merge_21 (Merge)                 (None, 1, 1, 128)     0           convolution2d_153[0][0]          \n",
      "                                                                   convolution2d_155[0][0]          \n",
      "____________________________________________________________________________________________________\n",
      "batchnormalization_175 (BatchNor (None, 1, 1, 128)     512         merge_21[0][0]                   \n",
      "____________________________________________________________________________________________________\n",
      "activation_69 (Activation)       (None, 1, 1, 128)     0           batchnormalization_175[0][0]     \n",
      "____________________________________________________________________________________________________\n",
      "batchnormalization_176 (BatchNor (None, 1, 1, 128)     512         activation_69[0][0]              \n",
      "____________________________________________________________________________________________________\n",
      "flatten_10 (Flatten)             (None, 128)           0           batchnormalization_176[0][0]     \n",
      "____________________________________________________________________________________________________\n",
      "fcc (Dense)                      (None, 128)           16512       flatten_10[0][0]                 \n",
      "____________________________________________________________________________________________________\n",
      "out (Dense)                      (None, 1)             129         fcc[0][0]                        \n",
      "====================================================================================================\n",
      "Total params: 505,249\n",
      "Trainable params: 503,425\n",
      "Non-trainable params: 1,824\n",
      "____________________________________________________________________________________________________\n"
     ]
    }
   ],
   "source": [
    "model = MyResNet()\n",
    "model.summary()"
   ]
  },
  {
   "cell_type": "code",
   "execution_count": 131,
   "metadata": {
    "collapsed": false
   },
   "outputs": [],
   "source": [
    "# batch logger \n",
    "# ref: https://github.com/fchollet/keras/issues/2850#issuecomment-222542429\n",
    "class NBatchLogger(Callback):\n",
    "    def __init__(self,display=100):\n",
    "        '''\n",
    "        display: Number of batches to wait before outputting loss\n",
    "        '''\n",
    "        self.seen = 0\n",
    "        self.display = display\n",
    "\n",
    "    def on_batch_end(self,batch,logs={}):\n",
    "        self.seen += logs.get('size', 0)\n",
    "        if self.seen % self.display == 0:\n",
    "            print('\\n{0}/{1} - Batch Loss: {2}'.format(self.seen,self.params['nb_sample'],\n",
    "                                                self.params['metrics'][0]))"
   ]
  },
  {
   "cell_type": "code",
   "execution_count": 132,
   "metadata": {
    "collapsed": false,
    "scrolled": true
   },
   "outputs": [
    {
     "name": "stdout",
     "output_type": "stream",
     "text": [
      "Train on 900 samples, validate on 100 samples\n",
      "Epoch 1/2\n",
      "\n",
      "128/900 - Batch Loss: loss\n",
      "128/900 [===>..........................] - ETA: 82s - loss: 0.8404\n",
      "256/900 - Batch Loss: loss\n",
      "256/900 [=======>......................] - ETA: 37s - loss: 0.8505\n",
      "384/900 - Batch Loss: loss\n",
      "384/900 [===========>..................] - ETA: 21s - loss: 0.7739\n",
      "512/900 - Batch Loss: loss\n",
      "512/900 [================>.............] - ETA: 13s - loss: 0.7190\n",
      "640/900 - Batch Loss: loss\n",
      "640/900 [====================>.........] - ETA: 7s - loss: 0.6546 \n",
      "768/900 - Batch Loss: loss\n",
      "768/900 [========================>.....] - ETA: 3s - loss: 0.6372\n",
      "896/900 - Batch Loss: loss\n",
      "896/900 [============================>.] - ETA: 0s - loss: 0.6287\n",
      "900/900 - Batch Loss: loss\n",
      "900/900 [==============================] - 24s - loss: 0.6307 - val_loss: 1.2066\n",
      "Epoch 2/2\n",
      "\n",
      "1028/900 - Batch Loss: loss\n",
      "128/900 [===>..........................] - ETA: 7s - loss: 0.6488\n",
      "1156/900 - Batch Loss: loss\n",
      "256/900 [=======>......................] - ETA: 6s - loss: 0.5260\n",
      "1284/900 - Batch Loss: loss\n",
      "384/900 [===========>..................] - ETA: 4s - loss: 0.6596\n",
      "1412/900 - Batch Loss: loss\n",
      "512/900 [================>.............] - ETA: 3s - loss: 0.6168\n",
      "1540/900 - Batch Loss: loss\n",
      "640/900 [====================>.........] - ETA: 2s - loss: 0.5884\n",
      "1668/900 - Batch Loss: loss\n",
      "768/900 [========================>.....] - ETA: 1s - loss: 0.5353\n",
      "1796/900 - Batch Loss: loss\n",
      "896/900 [============================>.] - ETA: 0s - loss: 0.5581\n",
      "1800/900 - Batch Loss: loss\n",
      "900/900 [==============================] - 10s - loss: 0.5559 - val_loss: 0.1382\n"
     ]
    }
   ],
   "source": [
    "#train just 1000 samples, 3 epochs\n",
    "# if False:\n",
    "checkpoint = ModelCheckpoint(filepath='./training-checkpoint/checkpoint-{epoch:02d}-{val_loss:.2f}.hdf5')\n",
    "out_batch = NBatchLogger(display=1)\n",
    "history = model.fit(x=Xtrain[:1000], y=Ytrain[:1000], \n",
    "          nb_epoch=nb_epoch, batch_size=batch_size,validation_split=0.1, verbose=1, callbacks=[checkpoint, out_batch]) "
   ]
  },
  {
   "cell_type": "code",
   "execution_count": 133,
   "metadata": {
    "collapsed": false
   },
   "outputs": [
    {
     "data": {
      "image/png": "[encoded data removed]",
      "text/plain": [
       "<matplotlib.figure.Figure at 0x159ea57f0>"
      ]
     },
     "metadata": {},
     "output_type": "display_data"
    }
   ],
   "source": [
    "plt.plot(history.history['loss'])\n",
    "# plt.plot(history.history['val_loss'])\n",
    "plt.title('model loss')\n",
    "plt.ylabel('loss')\n",
    "plt.xlabel('epoch')\n",
    "plt.legend(['train'], loc='upper left')\n",
    "plt.show()"
   ]
  },
  {
   "cell_type": "code",
   "execution_count": null,
   "metadata": {
    "collapsed": false,
    "scrolled": true
   },
   "outputs": [],
   "source": [
    "model.evaluate(x=Xtest, y=Ytest,batch_size=batch_size)"
   ]
  },
  {
   "cell_type": "code",
   "execution_count": null,
   "metadata": {
    "collapsed": true
   },
   "outputs": [],
   "source": [
    "# regression \n",
    "# rev: http://machinelearningmastery.com/regression-tutorial-keras-deep-learning-library-python/"
   ]
  },
  {
   "cell_type": "code",
   "execution_count": null,
   "metadata": {
    "collapsed": false
   },
   "outputs": [],
   "source": [
    "# fix random seed for reproducibility\n",
    "seed = 7\n",
    "np.random.seed(seed)\n",
    "# evaluate model with standardized dataset\n",
    "estimator = KerasRegressor(build_fn=MyNet, nb_epoch=nb_epoch, batch_size=batch_size, verbose=1)"
   ]
  },
  {
   "cell_type": "code",
   "execution_count": null,
   "metadata": {
    "collapsed": false
   },
   "outputs": [],
   "source": [
    "kfold = KFold(n_splits=10, random_state=seed)\n",
    "results = cross_val_score(estimator, Xtrain[:1000], Ytrain[:1000], cv=kfold)\n",
    "print(\"Results: %.2f (%.2f) MSE\" % (results.mean(), results.std()))"
   ]
  },
  {
   "cell_type": "code",
   "execution_count": null,
   "metadata": {
    "collapsed": true
   },
   "outputs": [],
   "source": [
    "  "
   ]
  }
 ],
 "metadata": {
  "anaconda-cloud": {},
  "kernelspec": {
   "display_name": "Python [conda root]",
   "language": "python",
   "name": "conda-root-py"
  },
  "language_info": {
   "codemirror_mode": {
    "name": "ipython",
    "version": 3
   },
   "file_extension": ".py",
   "mimetype": "text/x-python",
   "name": "python",
   "nbconvert_exporter": "python",
   "pygments_lexer": "ipython3",
   "version": "3.5.2"
  }
 },
 "nbformat": 4,
 "nbformat_minor": 1
}
