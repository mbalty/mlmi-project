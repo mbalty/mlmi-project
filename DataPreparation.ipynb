{
 "cells": [
  {
   "cell_type": "code",
   "execution_count": 1,
   "metadata": {
    "collapsed": false
   },
   "outputs": [],
   "source": [
    "import numpy as np\n",
    "import xlrd as pxl\n",
    "import os\n",
    "import glob\n",
    "from image_util import *"
   ]
  },
  {
   "cell_type": "code",
   "execution_count": null,
   "metadata": {
    "collapsed": false
   },
   "outputs": [],
   "source": [
    "# generate datatset\n",
    "input_edge = 256\n",
    "\n",
    "for name in glob.glob(\"./data/PapSmearDatasetSingleCellNoSegmented/*/*\"):\n",
    "    pth = name.split('/')\n",
    "    img = cv.imread(name)\n",
    "    aug = augment_images(img, input_edge)\n",
    "    pth[2] = 'PapSmearDatasetSingleCellAugmented'\n",
    "    fl = pth[-1].split('.')\n",
    "    name, ext = fl[0], fl[1]\n",
    "    ext = '.' + ext\n",
    "    for i in range(len(aug)):\n",
    "        pth[-1] = name + '-aug' + str(i) + ext\n",
    "        new_pth = '/'.join(pth)\n",
    "        if not os.path.exists(os.path.dirname(new_pth)):\n",
    "            os.makedirs(os.path.dirname(new_pth))\n",
    "        cv.imwrite(new_pth, aug[i])"
   ]
  },
  {
   "cell_type": "code",
   "execution_count": 2,
   "metadata": {
    "collapsed": true
   },
   "outputs": [],
   "source": [
    "# read data - ONLY RUN ONCE\n",
    "# load regressed nucleus/citoplasm ratios\n",
    "def make_id(fname):\n",
    "    return ''.join(fname.split('-')[:2])\n",
    "\n",
    "\n",
    "valuesDict = dict()\n",
    "sheet = pxl.open_workbook('./data/PapSmearDatasetSingleCell/PapSmearDatasetAnalysis.xls').sheet_by_index(0)\n",
    "val_n = len(sheet.col(0))\n",
    "\n",
    "for i in range(1, val_n):\n",
    "    valuesDict[make_id(sheet.cell_value(i, 0))] = (sheet.cell_value(i, 3), sheet.cell_value(i, 21))\n",
    "\n",
    "\n",
    "    \n",
    "#load images\n",
    "Xall = list() \n",
    "Yall_reg = list() \n",
    "Yall_cls = list() \n",
    "\n",
    "for pth in glob.glob(\"./data/PapSmearDatasetSingleCellAugmented/*/*\"):\n",
    "    img = cv.imread(pth)\n",
    "    Id = make_id(os.path.basename(pth))\n",
    "    Xall.append(img)\n",
    "    r, c = valuesDict[Id]\n",
    "    Yall_reg.append(r)\n",
    "    Yall_cls.append(c)\n",
    "\n",
    "Xall = np.array(Xall)\n",
    "Yall_reg = np.array(Yall_reg)\n",
    "Yall_cls = np.array(Yall_cls)"
   ]
  },
  {
   "cell_type": "code",
   "execution_count": 3,
   "metadata": {
    "collapsed": false
   },
   "outputs": [],
   "source": [
    "# load data\n",
    "# Xtrain = np.load('./data/dataset256/Xtrain.npy')\n",
    "Xtest = np.load('./data/dataset256/Xtest.npy')\n",
    "# Ytrain_reg = np.load('./data/dataset256/Ytrain_reg.npy')\n",
    "Ytest_reg = np.load('./data/dataset256/Ytest_reg.npy')\n",
    "# Ytrain_cls = np.load('./data/dataset256/Ytrain_cls.npy')\n",
    "Ytest_cls = np.load('./data/dataset256/Ytrain_cls.npy')"
   ]
  },
  {
   "cell_type": "code",
   "execution_count": 11,
   "metadata": {
    "collapsed": false
   },
   "outputs": [],
   "source": [
    "idx = list()\n",
    "for i in range(len(Xtest)):\n",
    "    for j in range(len(Xall)):\n",
    "        if np.array_equal(Xtest[i], Xall[j]):\n",
    "            idx.append(j)\n",
    "            break\n",
    "idx = np.array(idx)"
   ]
  },
  {
   "cell_type": "code",
   "execution_count": 15,
   "metadata": {
    "collapsed": false
   },
   "outputs": [],
   "source": [
    "Ytest_cls = Yall_cls[idx]\n",
    "Ytest_reg  =Yall_reg[idx]"
   ]
  },
  {
   "cell_type": "code",
   "execution_count": 14,
   "metadata": {
    "collapsed": false
   },
   "outputs": [
    {
     "data": {
      "text/plain": [
       "(3852, 256, 256, 3)"
      ]
     },
     "execution_count": 14,
     "metadata": {},
     "output_type": "execute_result"
    }
   ],
   "source": []
  },
  {
   "cell_type": "code",
   "execution_count": 16,
   "metadata": {
    "collapsed": true
   },
   "outputs": [],
   "source": [
    "np.save('./data/dataset256/Ytest_reg', Ytest_reg)\n",
    "np.save('./data/dataset256/Ytest_cls', Ytest_cls)"
   ]
  },
  {
   "cell_type": "code",
   "execution_count": null,
   "metadata": {
    "collapsed": true
   },
   "outputs": [],
   "source": []
  },
  {
   "cell_type": "code",
   "execution_count": null,
   "metadata": {
    "collapsed": true
   },
   "outputs": [],
   "source": []
  },
  {
   "cell_type": "code",
   "execution_count": null,
   "metadata": {
    "collapsed": true
   },
   "outputs": [],
   "source": []
  },
  {
   "cell_type": "code",
   "execution_count": null,
   "metadata": {
    "collapsed": true
   },
   "outputs": [],
   "source": [
    "#shuffle data - ONLY RUN ONCE\n",
    "rand_perm = np.random.permutation(Xall.shape[0])\n",
    "Xall = Xall[rand_perm]\n",
    "Yall_reg = Yall_reg[rand_perm]\n",
    "Yall_cls = Yall_cls[rand_perm]"
   ]
  },
  {
   "cell_type": "code",
   "execution_count": null,
   "metadata": {
    "collapsed": true
   },
   "outputs": [],
   "source": [
    "# split train and test - ONLY RUN ONCE\n",
    "test_ratio = 0.2\n",
    "cut = int(Xall.shape[0]*(1.-test_ratio))\n",
    "Xtrain = Xall[:cut]\n",
    "Xtest = Xall[cut:]\n",
    "Ytrain_reg = Yall_reg[:cut]\n",
    "Ytest_reg = Yall_reg[cut:]\n",
    "Ytrain_cls = Yall_cls[:cut]\n",
    "Ytest_cls = Yall_cls[cut:]"
   ]
  },
  {
   "cell_type": "code",
   "execution_count": null,
   "metadata": {
    "collapsed": true
   },
   "outputs": [],
   "source": [
    "#save data - ONLY RUN ONCE\n",
    "np.save('./data/dataset256/Xtrain', Xtrain)\n",
    "np.save('./data/dataset256/Xtest', Xtest)\n",
    "np.save('./data/dataset256/Ytrain_reg', Ytrain_reg)\n",
    "np.save('./data/dataset256/Ytest_reg', Ytest_reg)\n",
    "np.save('./data/dataset256/Ytrain_cls', Ytrain_cls)\n",
    "np.save('./data/dataset256/Ytest_cls', Ytest_cls)"
   ]
  },
  {
   "cell_type": "code",
   "execution_count": null,
   "metadata": {
    "collapsed": true
   },
   "outputs": [],
   "source": []
  }
 ],
 "metadata": {
  "anaconda-cloud": {},
  "kernelspec": {
   "display_name": "Python [conda root]",
   "language": "python",
   "name": "conda-root-py"
  },
  "language_info": {
   "codemirror_mode": {
    "name": "ipython",
    "version": 3
   },
   "file_extension": ".py",
   "mimetype": "text/x-python",
   "name": "python",
   "nbconvert_exporter": "python",
   "pygments_lexer": "ipython3",
   "version": "3.5.2"
  }
 },
 "nbformat": 4,
 "nbformat_minor": 1
}
