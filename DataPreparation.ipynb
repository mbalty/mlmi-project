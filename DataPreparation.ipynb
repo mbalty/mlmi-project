{
 "cells": [
  {
   "cell_type": "code",
   "execution_count": 2,
   "metadata": {
    "collapsed": false
   },
   "outputs": [],
   "source": [
    "import numpy as np\n",
    "import xlrd as pxl\n",
    "import os\n",
    "import glob\n",
    "from image_util import *"
   ]
  },
  {
   "cell_type": "code",
   "execution_count": 3,
   "metadata": {
    "collapsed": false
   },
   "outputs": [],
   "source": [
    "# generate datatset\n",
    "input_edge = 256\n",
    "\n",
    "for name in glob.glob(\"./data/PapSmearDatasetSingleCellNoSegmented/*/*\"):\n",
    "    pth = name.split('/')\n",
    "    img = cv.imread(name)\n",
    "    aug = augment_images(img, input_edge)\n",
    "    pth[2] = 'PapSmearDatasetSingleCellAugmented'\n",
    "    fl = pth[-1].split('.')\n",
    "    name, ext = fl[0], fl[1]\n",
    "    ext = '.' + ext\n",
    "    for i in range(len(aug)):\n",
    "        pth[-1] = name + '-aug' + str(i) + ext\n",
    "        new_pth = '/'.join(pth)\n",
    "        if not os.path.exists(os.path.dirname(new_pth)):\n",
    "            os.makedirs(os.path.dirname(new_pth))\n",
    "        cv.imwrite(new_pth, aug[i])"
   ]
  },
  {
   "cell_type": "code",
   "execution_count": 4,
   "metadata": {
    "collapsed": true
   },
   "outputs": [],
   "source": [
    "# read data - ONLY RUN ONCE\n",
    "# load regressed nucleus/citoplasm ratios\n",
    "def make_id(fname):\n",
    "    return ''.join(fname.split('-')[:2])\n",
    "\n",
    "\n",
    "valuesDict = dict()\n",
    "sheet = pxl.open_workbook('./data/PapSmearDatasetSingleCell/PapSmearDatasetAnalysis.xls').sheet_by_index(0)\n",
    "val_n = len(sheet.col(0))\n",
    "\n",
    "for i in range(1, val_n):\n",
    "    valuesDict[make_id(sheet.cell_value(i, 0))] = sheet.cell_value(i, 3)\n",
    "\n",
    "\n",
    "    \n",
    "#load images\n",
    "Xall = list() \n",
    "Yall = list() \n",
    "\n",
    "for pth in glob.glob(\"./data/PapSmearDatasetSingleCellAugmented/*/*\"):\n",
    "    img = cv.imread(pth)\n",
    "    Id = make_id(os.path.basename(pth))\n",
    "    Xall.append(img)\n",
    "    Yall.append(valuesDict[Id])\n",
    "\n",
    "Xall = np.array(Xall)\n",
    "Yall = np.array(Yall)"
   ]
  },
  {
   "cell_type": "code",
   "execution_count": 5,
   "metadata": {
    "collapsed": true
   },
   "outputs": [],
   "source": [
    "#shuffle data - ONLY RUN ONCE\n",
    "rand_perm = np.random.permutation(Xall.shape[0])\n",
    "Xall = Xall[rand_perm]\n",
    "Yall = Yall[rand_perm]"
   ]
  },
  {
   "cell_type": "code",
   "execution_count": 6,
   "metadata": {
    "collapsed": true
   },
   "outputs": [],
   "source": [
    "# split train and test - ONLY RUN ONCE\n",
    "test_ratio = 0.2\n",
    "cut = int(Xall.shape[0]*(1.-test_ratio))\n",
    "Xtrain = Xall[:cut]\n",
    "Xtest = Xall[cut:]\n",
    "Ytrain = Yall[:cut]\n",
    "Ytest = Yall[cut:]"
   ]
  },
  {
   "cell_type": "code",
   "execution_count": 7,
   "metadata": {
    "collapsed": true
   },
   "outputs": [],
   "source": [
    "#save data - ONLY RUN ONCE\n",
    "np.save('./data/Xtrain', Xtrain)\n",
    "np.save('./data/Xtest', Xtest)\n",
    "np.save('./data/Ytrain', Ytrain)\n",
    "np.save('./data/Ytest', Ytest)"
   ]
  },
  {
   "cell_type": "code",
   "execution_count": null,
   "metadata": {
    "collapsed": true
   },
   "outputs": [],
   "source": []
  }
 ],
 "metadata": {
  "anaconda-cloud": {},
  "kernelspec": {
   "display_name": "Python [conda root]",
   "language": "python",
   "name": "conda-root-py"
  },
  "language_info": {
   "codemirror_mode": {
    "name": "ipython",
    "version": 3
   },
   "file_extension": ".py",
   "mimetype": "text/x-python",
   "name": "python",
   "nbconvert_exporter": "python",
   "pygments_lexer": "ipython3",
   "version": "3.5.2"
  }
 },
 "nbformat": 4,
 "nbformat_minor": 1
}
